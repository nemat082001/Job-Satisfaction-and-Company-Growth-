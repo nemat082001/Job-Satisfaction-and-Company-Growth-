{
 "cells": [
  {
   "cell_type": "markdown",
   "id": "45433dc2",
   "metadata": {},
   "source": [
    "## Loading Data"
   ]
  },
  {
   "cell_type": "code",
   "execution_count": 1,
   "id": "ff68416d",
   "metadata": {},
   "outputs": [],
   "source": [
    "import pandas as pd"
   ]
  },
  {
   "cell_type": "code",
   "execution_count": 2,
   "id": "416b7714",
   "metadata": {},
   "outputs": [],
   "source": [
    "df = pd.read_csv('final_reviews.csv')"
   ]
  },
  {
   "cell_type": "code",
   "execution_count": 3,
   "id": "8a83a52e",
   "metadata": {},
   "outputs": [
    {
     "data": {
      "text/html": [
       "<div>\n",
       "<style scoped>\n",
       "    .dataframe tbody tr th:only-of-type {\n",
       "        vertical-align: middle;\n",
       "    }\n",
       "\n",
       "    .dataframe tbody tr th {\n",
       "        vertical-align: top;\n",
       "    }\n",
       "\n",
       "    .dataframe thead th {\n",
       "        text-align: right;\n",
       "    }\n",
       "</style>\n",
       "<table border=\"1\" class=\"dataframe\">\n",
       "  <thead>\n",
       "    <tr style=\"text-align: right;\">\n",
       "      <th></th>\n",
       "      <th>Work/Life Balance</th>\n",
       "      <th>Culture &amp; Values</th>\n",
       "      <th>Diversity and Inclusion</th>\n",
       "      <th>Career Opportunities</th>\n",
       "      <th>Compensation and Benefits</th>\n",
       "      <th>Senior Management</th>\n",
       "      <th>rating</th>\n",
       "      <th>Title</th>\n",
       "      <th>Current/Time</th>\n",
       "      <th>Job Line</th>\n",
       "      <th>pros</th>\n",
       "      <th>cons</th>\n",
       "      <th>Company</th>\n",
       "      <th>Date</th>\n",
       "      <th>Role</th>\n",
       "    </tr>\n",
       "  </thead>\n",
       "  <tbody>\n",
       "    <tr>\n",
       "      <th>0</th>\n",
       "      <td>3.0</td>\n",
       "      <td>4.0</td>\n",
       "      <td>4.0</td>\n",
       "      <td>4.0</td>\n",
       "      <td>4.0</td>\n",
       "      <td>4.0</td>\n",
       "      <td>4</td>\n",
       "      <td>Continuously learning</td>\n",
       "      <td>Current Employee, more than 1 year</td>\n",
       "      <td>15 May 2023 - Technology Lead - in Pune</td>\n",
       "      <td>Infosys offers best learnings. As the company ...</td>\n",
       "      <td>Expect great hike if you have come in limelight</td>\n",
       "      <td>Infosis</td>\n",
       "      <td>NaN</td>\n",
       "      <td>NaN</td>\n",
       "    </tr>\n",
       "    <tr>\n",
       "      <th>1</th>\n",
       "      <td>1.0</td>\n",
       "      <td>3.0</td>\n",
       "      <td>2.0</td>\n",
       "      <td>3.0</td>\n",
       "      <td>2.0</td>\n",
       "      <td>1.0</td>\n",
       "      <td>3</td>\n",
       "      <td>Management heirarcy</td>\n",
       "      <td>Current Employee, more than 1 year</td>\n",
       "      <td>15 May 2023 - Associate Consultant - in Pune</td>\n",
       "      <td>Some people have no work some have a lot</td>\n",
       "      <td>Less increment, with lot of pressure</td>\n",
       "      <td>Infosis</td>\n",
       "      <td>15 May 2023</td>\n",
       "      <td>Associate Consultant</td>\n",
       "    </tr>\n",
       "    <tr>\n",
       "      <th>2</th>\n",
       "      <td>5.0</td>\n",
       "      <td>5.0</td>\n",
       "      <td>5.0</td>\n",
       "      <td>5.0</td>\n",
       "      <td>5.0</td>\n",
       "      <td>5.0</td>\n",
       "      <td>5</td>\n",
       "      <td>Good</td>\n",
       "      <td>Former Employee</td>\n",
       "      <td>15 May 2023 - Analyst - in Pune</td>\n",
       "      <td>Good company to work with</td>\n",
       "      <td>Nothing bad as of while working with.</td>\n",
       "      <td>Infosis</td>\n",
       "      <td>15 May 2023</td>\n",
       "      <td>Analyst</td>\n",
       "    </tr>\n",
       "    <tr>\n",
       "      <th>3</th>\n",
       "      <td>4.0</td>\n",
       "      <td>4.0</td>\n",
       "      <td>4.0</td>\n",
       "      <td>4.0</td>\n",
       "      <td>4.0</td>\n",
       "      <td>4.0</td>\n",
       "      <td>4</td>\n",
       "      <td>Good company</td>\n",
       "      <td>Former Employee, more than 1 year</td>\n",
       "      <td>15 May 2023 - Technology Analyst - in Bengaluru</td>\n",
       "      <td>Work life balance is good based on project</td>\n",
       "      <td>No cons found for my experience</td>\n",
       "      <td>Infosis</td>\n",
       "      <td>15 May 2023</td>\n",
       "      <td>Technology Analyst</td>\n",
       "    </tr>\n",
       "    <tr>\n",
       "      <th>4</th>\n",
       "      <td>5.0</td>\n",
       "      <td>5.0</td>\n",
       "      <td>5.0</td>\n",
       "      <td>5.0</td>\n",
       "      <td>4.0</td>\n",
       "      <td>5.0</td>\n",
       "      <td>5</td>\n",
       "      <td>Good company</td>\n",
       "      <td>Current Employee, more than 3 years</td>\n",
       "      <td>14 May 2023 - Consultant - in Bengaluru</td>\n",
       "      <td>#NAME?</td>\n",
       "      <td>Annual Salary hike is very less</td>\n",
       "      <td>Infosis</td>\n",
       "      <td>14 May 2023</td>\n",
       "      <td>Consultant</td>\n",
       "    </tr>\n",
       "  </tbody>\n",
       "</table>\n",
       "</div>"
      ],
      "text/plain": [
       "   Work/Life Balance  Culture & Values  Diversity and Inclusion  \\\n",
       "0                3.0               4.0                      4.0   \n",
       "1                1.0               3.0                      2.0   \n",
       "2                5.0               5.0                      5.0   \n",
       "3                4.0               4.0                      4.0   \n",
       "4                5.0               5.0                      5.0   \n",
       "\n",
       "   Career Opportunities  Compensation and Benefits  Senior Management  rating  \\\n",
       "0                   4.0                        4.0                4.0       4   \n",
       "1                   3.0                        2.0                1.0       3   \n",
       "2                   5.0                        5.0                5.0       5   \n",
       "3                   4.0                        4.0                4.0       4   \n",
       "4                   5.0                        4.0                5.0       5   \n",
       "\n",
       "                   Title                         Current/Time  \\\n",
       "0  Continuously learning   Current Employee, more than 1 year   \n",
       "1    Management heirarcy   Current Employee, more than 1 year   \n",
       "2                   Good                      Former Employee   \n",
       "3           Good company    Former Employee, more than 1 year   \n",
       "4           Good company  Current Employee, more than 3 years   \n",
       "\n",
       "                                          Job Line  \\\n",
       "0          15 May 2023 - Technology Lead - in Pune   \n",
       "1     15 May 2023 - Associate Consultant - in Pune   \n",
       "2                  15 May 2023 - Analyst - in Pune   \n",
       "3  15 May 2023 - Technology Analyst - in Bengaluru   \n",
       "4          14 May 2023 - Consultant - in Bengaluru   \n",
       "\n",
       "                                                pros  \\\n",
       "0  Infosys offers best learnings. As the company ...   \n",
       "1           Some people have no work some have a lot   \n",
       "2                          Good company to work with   \n",
       "3         Work life balance is good based on project   \n",
       "4                                             #NAME?   \n",
       "\n",
       "                                              cons  Company         Date  \\\n",
       "0  Expect great hike if you have come in limelight  Infosis          NaN   \n",
       "1             Less increment, with lot of pressure  Infosis  15 May 2023   \n",
       "2            Nothing bad as of while working with.  Infosis  15 May 2023   \n",
       "3                  No cons found for my experience  Infosis  15 May 2023   \n",
       "4                  Annual Salary hike is very less  Infosis  14 May 2023   \n",
       "\n",
       "                   Role  \n",
       "0                   NaN  \n",
       "1  Associate Consultant  \n",
       "2               Analyst  \n",
       "3    Technology Analyst  \n",
       "4            Consultant  "
      ]
     },
     "execution_count": 3,
     "metadata": {},
     "output_type": "execute_result"
    }
   ],
   "source": [
    "df.head(5)"
   ]
  },
  {
   "cell_type": "markdown",
   "id": "9e83caf1",
   "metadata": {},
   "source": [
    "# Data Cleaning"
   ]
  },
  {
   "cell_type": "code",
   "execution_count": 4,
   "id": "222fc4e2",
   "metadata": {},
   "outputs": [
    {
     "data": {
      "text/plain": [
       "Index(['Work/Life Balance', 'Culture & Values', 'Diversity and Inclusion',\n",
       "       'Career Opportunities', 'Compensation and Benefits',\n",
       "       'Senior Management', 'rating', 'Title', 'Current/Time', 'Job Line',\n",
       "       'pros', 'cons', 'Company', 'Date', 'Role'],\n",
       "      dtype='object')"
      ]
     },
     "execution_count": 4,
     "metadata": {},
     "output_type": "execute_result"
    }
   ],
   "source": [
    "df.columns"
   ]
  },
  {
   "cell_type": "code",
   "execution_count": 5,
   "id": "92ad5da6",
   "metadata": {},
   "outputs": [],
   "source": [
    "df = df.drop(columns=['Work/Life Balance', 'Culture & Values', 'Diversity and Inclusion','Career Opportunities', 'Compensation and Benefits','Senior Management', 'rating', 'Title', 'Current/Time', 'Job Line', 'Company', 'Date', 'Role'], axis = 1)"
   ]
  },
  {
   "cell_type": "code",
   "execution_count": 6,
   "id": "90195aa4",
   "metadata": {},
   "outputs": [
    {
     "data": {
      "text/html": [
       "<div>\n",
       "<style scoped>\n",
       "    .dataframe tbody tr th:only-of-type {\n",
       "        vertical-align: middle;\n",
       "    }\n",
       "\n",
       "    .dataframe tbody tr th {\n",
       "        vertical-align: top;\n",
       "    }\n",
       "\n",
       "    .dataframe thead th {\n",
       "        text-align: right;\n",
       "    }\n",
       "</style>\n",
       "<table border=\"1\" class=\"dataframe\">\n",
       "  <thead>\n",
       "    <tr style=\"text-align: right;\">\n",
       "      <th></th>\n",
       "      <th>pros</th>\n",
       "      <th>cons</th>\n",
       "    </tr>\n",
       "  </thead>\n",
       "  <tbody>\n",
       "    <tr>\n",
       "      <th>0</th>\n",
       "      <td>Infosys offers best learnings. As the company ...</td>\n",
       "      <td>Expect great hike if you have come in limelight</td>\n",
       "    </tr>\n",
       "    <tr>\n",
       "      <th>1</th>\n",
       "      <td>Some people have no work some have a lot</td>\n",
       "      <td>Less increment, with lot of pressure</td>\n",
       "    </tr>\n",
       "    <tr>\n",
       "      <th>2</th>\n",
       "      <td>Good company to work with</td>\n",
       "      <td>Nothing bad as of while working with.</td>\n",
       "    </tr>\n",
       "    <tr>\n",
       "      <th>3</th>\n",
       "      <td>Work life balance is good based on project</td>\n",
       "      <td>No cons found for my experience</td>\n",
       "    </tr>\n",
       "    <tr>\n",
       "      <th>4</th>\n",
       "      <td>#NAME?</td>\n",
       "      <td>Annual Salary hike is very less</td>\n",
       "    </tr>\n",
       "    <tr>\n",
       "      <th>5</th>\n",
       "      <td>you will get time for other things most of time</td>\n",
       "      <td>less salary and no learnings</td>\n",
       "    </tr>\n",
       "    <tr>\n",
       "      <th>6</th>\n",
       "      <td>Work life balance Flexibility on work front as...</td>\n",
       "      <td>Politics and bloody politics, if your manager ...</td>\n",
       "    </tr>\n",
       "    <tr>\n",
       "      <th>7</th>\n",
       "      <td>Work-life balance. No work pressure.</td>\n",
       "      <td>No scope for growth for freshers.</td>\n",
       "    </tr>\n",
       "    <tr>\n",
       "      <th>8</th>\n",
       "      <td>Good for experience people if you are in with ...</td>\n",
       "      <td>Project onboarding and off boarding specifical...</td>\n",
       "    </tr>\n",
       "    <tr>\n",
       "      <th>9</th>\n",
       "      <td>Projects and clients Flexibility in time Work ...</td>\n",
       "      <td>Very less recognition for the amount of work w...</td>\n",
       "    </tr>\n",
       "  </tbody>\n",
       "</table>\n",
       "</div>"
      ],
      "text/plain": [
       "                                                pros  \\\n",
       "0  Infosys offers best learnings. As the company ...   \n",
       "1           Some people have no work some have a lot   \n",
       "2                          Good company to work with   \n",
       "3         Work life balance is good based on project   \n",
       "4                                             #NAME?   \n",
       "5    you will get time for other things most of time   \n",
       "6  Work life balance Flexibility on work front as...   \n",
       "7               Work-life balance. No work pressure.   \n",
       "8  Good for experience people if you are in with ...   \n",
       "9  Projects and clients Flexibility in time Work ...   \n",
       "\n",
       "                                                cons  \n",
       "0    Expect great hike if you have come in limelight  \n",
       "1               Less increment, with lot of pressure  \n",
       "2              Nothing bad as of while working with.  \n",
       "3                    No cons found for my experience  \n",
       "4                    Annual Salary hike is very less  \n",
       "5                       less salary and no learnings  \n",
       "6  Politics and bloody politics, if your manager ...  \n",
       "7                  No scope for growth for freshers.  \n",
       "8  Project onboarding and off boarding specifical...  \n",
       "9  Very less recognition for the amount of work w...  "
      ]
     },
     "execution_count": 6,
     "metadata": {},
     "output_type": "execute_result"
    }
   ],
   "source": [
    "df.head(10)"
   ]
  },
  {
   "cell_type": "code",
   "execution_count": 7,
   "id": "fdc2d8af",
   "metadata": {},
   "outputs": [],
   "source": [
    "df['text'] = df['pros'] +\" \"+ df['cons'] "
   ]
  },
  {
   "cell_type": "code",
   "execution_count": 8,
   "id": "edf3938b",
   "metadata": {},
   "outputs": [
    {
     "data": {
      "text/html": [
       "<div>\n",
       "<style scoped>\n",
       "    .dataframe tbody tr th:only-of-type {\n",
       "        vertical-align: middle;\n",
       "    }\n",
       "\n",
       "    .dataframe tbody tr th {\n",
       "        vertical-align: top;\n",
       "    }\n",
       "\n",
       "    .dataframe thead th {\n",
       "        text-align: right;\n",
       "    }\n",
       "</style>\n",
       "<table border=\"1\" class=\"dataframe\">\n",
       "  <thead>\n",
       "    <tr style=\"text-align: right;\">\n",
       "      <th></th>\n",
       "      <th>pros</th>\n",
       "      <th>cons</th>\n",
       "      <th>text</th>\n",
       "    </tr>\n",
       "  </thead>\n",
       "  <tbody>\n",
       "    <tr>\n",
       "      <th>0</th>\n",
       "      <td>Infosys offers best learnings. As the company ...</td>\n",
       "      <td>Expect great hike if you have come in limelight</td>\n",
       "      <td>Infosys offers best learnings. As the company ...</td>\n",
       "    </tr>\n",
       "    <tr>\n",
       "      <th>1</th>\n",
       "      <td>Some people have no work some have a lot</td>\n",
       "      <td>Less increment, with lot of pressure</td>\n",
       "      <td>Some people have no work some have a lot Less ...</td>\n",
       "    </tr>\n",
       "    <tr>\n",
       "      <th>2</th>\n",
       "      <td>Good company to work with</td>\n",
       "      <td>Nothing bad as of while working with.</td>\n",
       "      <td>Good company to work with Nothing bad as of wh...</td>\n",
       "    </tr>\n",
       "    <tr>\n",
       "      <th>3</th>\n",
       "      <td>Work life balance is good based on project</td>\n",
       "      <td>No cons found for my experience</td>\n",
       "      <td>Work life balance is good based on project No ...</td>\n",
       "    </tr>\n",
       "    <tr>\n",
       "      <th>4</th>\n",
       "      <td>#NAME?</td>\n",
       "      <td>Annual Salary hike is very less</td>\n",
       "      <td>#NAME? Annual Salary hike is very less</td>\n",
       "    </tr>\n",
       "  </tbody>\n",
       "</table>\n",
       "</div>"
      ],
      "text/plain": [
       "                                                pros  \\\n",
       "0  Infosys offers best learnings. As the company ...   \n",
       "1           Some people have no work some have a lot   \n",
       "2                          Good company to work with   \n",
       "3         Work life balance is good based on project   \n",
       "4                                             #NAME?   \n",
       "\n",
       "                                              cons  \\\n",
       "0  Expect great hike if you have come in limelight   \n",
       "1             Less increment, with lot of pressure   \n",
       "2            Nothing bad as of while working with.   \n",
       "3                  No cons found for my experience   \n",
       "4                  Annual Salary hike is very less   \n",
       "\n",
       "                                                text  \n",
       "0  Infosys offers best learnings. As the company ...  \n",
       "1  Some people have no work some have a lot Less ...  \n",
       "2  Good company to work with Nothing bad as of wh...  \n",
       "3  Work life balance is good based on project No ...  \n",
       "4             #NAME? Annual Salary hike is very less  "
      ]
     },
     "execution_count": 8,
     "metadata": {},
     "output_type": "execute_result"
    }
   ],
   "source": [
    "df.head(5)"
   ]
  },
  {
   "cell_type": "code",
   "execution_count": 9,
   "id": "0b71f2ae",
   "metadata": {},
   "outputs": [],
   "source": [
    "df = df.drop(columns=['pros', 'cons'], axis = 1)"
   ]
  },
  {
   "cell_type": "code",
   "execution_count": 10,
   "id": "02283203",
   "metadata": {},
   "outputs": [
    {
     "data": {
      "text/html": [
       "<div>\n",
       "<style scoped>\n",
       "    .dataframe tbody tr th:only-of-type {\n",
       "        vertical-align: middle;\n",
       "    }\n",
       "\n",
       "    .dataframe tbody tr th {\n",
       "        vertical-align: top;\n",
       "    }\n",
       "\n",
       "    .dataframe thead th {\n",
       "        text-align: right;\n",
       "    }\n",
       "</style>\n",
       "<table border=\"1\" class=\"dataframe\">\n",
       "  <thead>\n",
       "    <tr style=\"text-align: right;\">\n",
       "      <th></th>\n",
       "      <th>text</th>\n",
       "    </tr>\n",
       "  </thead>\n",
       "  <tbody>\n",
       "    <tr>\n",
       "      <th>77714</th>\n",
       "      <td>Supportive team and manager. Had fun working. ...</td>\n",
       "    </tr>\n",
       "    <tr>\n",
       "      <th>151401</th>\n",
       "      <td>Less salaray in the company and Good work envi...</td>\n",
       "    </tr>\n",
       "    <tr>\n",
       "      <th>272022</th>\n",
       "      <td>Good working environment Scope for upscale Fle...</td>\n",
       "    </tr>\n",
       "    <tr>\n",
       "      <th>239291</th>\n",
       "      <td>Facility and infrastructure\\nTravel Opportunit...</td>\n",
       "    </tr>\n",
       "    <tr>\n",
       "      <th>1212</th>\n",
       "      <td>Worklife balance Culture &amp; Values Diversity &amp; ...</td>\n",
       "    </tr>\n",
       "  </tbody>\n",
       "</table>\n",
       "</div>"
      ],
      "text/plain": [
       "                                                     text\n",
       "77714   Supportive team and manager. Had fun working. ...\n",
       "151401  Less salaray in the company and Good work envi...\n",
       "272022  Good working environment Scope for upscale Fle...\n",
       "239291  Facility and infrastructure\\nTravel Opportunit...\n",
       "1212    Worklife balance Culture & Values Diversity & ..."
      ]
     },
     "execution_count": 10,
     "metadata": {},
     "output_type": "execute_result"
    }
   ],
   "source": [
    "df.sample(5)"
   ]
  },
  {
   "cell_type": "markdown",
   "id": "8e108572",
   "metadata": {},
   "source": [
    "# Remove punctuation/lower casing"
   ]
  },
  {
   "cell_type": "code",
   "execution_count": 13,
   "id": "139cd778",
   "metadata": {},
   "outputs": [
    {
     "data": {
      "text/plain": [
       "0    infosys offers best learnings as the company i...\n",
       "1    some people have no work some have a lot less ...\n",
       "2    good company to work with nothing bad as of wh...\n",
       "3    work life balance is good based on project no ...\n",
       "4                #name annual salary hike is very less\n",
       "Name: text_processed, dtype: object"
      ]
     },
     "execution_count": 13,
     "metadata": {},
     "output_type": "execute_result"
    }
   ],
   "source": [
    "# Load the regular expression library\n",
    "import re\n",
    "\n",
    "# Remove punctuation\n",
    "df['text_processed'] = df['text'].map(lambda x: re.sub('[,\\.!?]', '', str(x)))\n",
    "\n",
    "# Convert the titles to lowercase\n",
    "df['text_processed'] = df['text_processed'].map(lambda x: x.lower())\n",
    "\n",
    "# Print out the first rows of papers\n",
    "df['text_processed'].head()"
   ]
  },
  {
   "cell_type": "markdown",
   "id": "9d03127a",
   "metadata": {},
   "source": [
    "# Tokenize words and further clean-up text"
   ]
  },
  {
   "cell_type": "code",
   "execution_count": 15,
   "id": "dc3a51f5",
   "metadata": {},
   "outputs": [
    {
     "name": "stdout",
     "output_type": "stream",
     "text": [
      "['infosys', 'offers', 'best', 'learnings', 'as', 'the', 'company', 'is', 'huge', 'it', 'makes', 'you', 'interact', 'with', 'different', 'group', 'of', 'people', 'to', 'get', 'the', 'work', 'done', 'expect', 'great', 'hike', 'if', 'you', 'have', 'come']\n"
     ]
    }
   ],
   "source": [
    "import gensim\n",
    "from gensim.utils import simple_preprocess\n",
    "\n",
    "def sent_to_words(sentences):\n",
    "    for sentence in sentences:\n",
    "        yield(gensim.utils.simple_preprocess(str(sentence), deacc=True))  # deacc=True removes punctuations\n",
    "\n",
    "data = df.text_processed.values.tolist()\n",
    "data_words = list(sent_to_words(data))\n",
    "\n",
    "print(data_words[:1][0][:30])"
   ]
  },
  {
   "cell_type": "markdown",
   "id": "5f5209d5",
   "metadata": {},
   "source": [
    "# Phrase Modeling: Bigram and Trigram Models"
   ]
  },
  {
   "cell_type": "code",
   "execution_count": 16,
   "id": "6f107a79",
   "metadata": {},
   "outputs": [],
   "source": [
    "# Build the bigram and trigram models\n",
    "bigram = gensim.models.Phrases(data_words, min_count=5, threshold=100) # higher threshold fewer phrases.\n",
    "trigram = gensim.models.Phrases(bigram[data_words], threshold=100)  \n",
    "\n",
    "# Faster way to get a sentence clubbed as a trigram/bigram\n",
    "bigram_mod = gensim.models.phrases.Phraser(bigram)\n",
    "trigram_mod = gensim.models.phrases.Phraser(trigram)"
   ]
  },
  {
   "cell_type": "markdown",
   "id": "25f8c41c",
   "metadata": {},
   "source": [
    "# Remove Stopwords, Make Bigrams and Lemmatize"
   ]
  },
  {
   "cell_type": "code",
   "execution_count": 17,
   "id": "d8e2da43",
   "metadata": {},
   "outputs": [
    {
     "name": "stderr",
     "output_type": "stream",
     "text": [
      "[nltk_data] Downloading package stopwords to\n",
      "[nltk_data]     C:\\Users\\HP\\AppData\\Roaming\\nltk_data...\n",
      "[nltk_data]   Package stopwords is already up-to-date!\n"
     ]
    }
   ],
   "source": [
    "# NLTK Stop words\n",
    "import nltk\n",
    "nltk.download('stopwords')\n",
    "from nltk.corpus import stopwords\n",
    "\n",
    "stop_words = stopwords.words('english')\n",
    "stop_words.extend(['company', 'review'])"
   ]
  },
  {
   "cell_type": "code",
   "execution_count": 18,
   "id": "44334fd3",
   "metadata": {},
   "outputs": [],
   "source": [
    "# Define functions for stopwords, bigrams, trigrams and lemmatization\n",
    "def remove_stopwords(texts):\n",
    "    return [[word for word in simple_preprocess(str(doc)) if word not in stop_words] for doc in texts]\n",
    "\n",
    "def make_bigrams(texts):\n",
    "    return [bigram_mod[doc] for doc in texts]\n",
    "\n",
    "def make_trigrams(texts):\n",
    "    return [trigram_mod[bigram_mod[doc]] for doc in texts]\n",
    "\n",
    "def lemmatization(texts, allowed_postags=['NOUN', 'ADJ', 'VERB', 'ADV']):\n",
    "    \"\"\"https://spacy.io/api/annotation\"\"\"\n",
    "    texts_out = []\n",
    "    for sent in texts:\n",
    "        doc = nlp(\" \".join(sent)) \n",
    "        texts_out.append([token.lemma_ for token in doc if token.pos_ in allowed_postags])\n",
    "    return texts_out"
   ]
  },
  {
   "cell_type": "code",
   "execution_count": 19,
   "id": "75f05079",
   "metadata": {},
   "outputs": [
    {
     "name": "stdout",
     "output_type": "stream",
     "text": [
      "Collecting en-core-web-sm==3.4.1\n",
      "  Downloading https://github.com/explosion/spacy-models/releases/download/en_core_web_sm-3.4.1/en_core_web_sm-3.4.1-py3-none-any.whl (12.8 MB)\n",
      "     ---------------------------------------- 12.8/12.8 MB 1.3 MB/s eta 0:00:00\n",
      "Requirement already satisfied: spacy<3.5.0,>=3.4.0 in c:\\users\\hp\\anaconda\\lib\\site-packages (from en-core-web-sm==3.4.1) (3.4.4)\n",
      "Requirement already satisfied: spacy-legacy<3.1.0,>=3.0.10 in c:\\users\\hp\\anaconda\\lib\\site-packages (from spacy<3.5.0,>=3.4.0->en-core-web-sm==3.4.1) (3.0.11)\n",
      "Requirement already satisfied: catalogue<2.1.0,>=2.0.6 in c:\\users\\hp\\anaconda\\lib\\site-packages (from spacy<3.5.0,>=3.4.0->en-core-web-sm==3.4.1) (2.0.8)\n",
      "Requirement already satisfied: jinja2 in c:\\users\\hp\\anaconda\\lib\\site-packages (from spacy<3.5.0,>=3.4.0->en-core-web-sm==3.4.1) (2.11.3)\n",
      "Requirement already satisfied: smart-open<7.0.0,>=5.2.1 in c:\\users\\hp\\anaconda\\lib\\site-packages (from spacy<3.5.0,>=3.4.0->en-core-web-sm==3.4.1) (5.2.1)\n",
      "Requirement already satisfied: murmurhash<1.1.0,>=0.28.0 in c:\\users\\hp\\anaconda\\lib\\site-packages (from spacy<3.5.0,>=3.4.0->en-core-web-sm==3.4.1) (1.0.9)\n",
      "Requirement already satisfied: pydantic!=1.8,!=1.8.1,<1.11.0,>=1.7.4 in c:\\users\\hp\\anaconda\\lib\\site-packages (from spacy<3.5.0,>=3.4.0->en-core-web-sm==3.4.1) (1.10.2)\n",
      "Requirement already satisfied: srsly<3.0.0,>=2.4.3 in c:\\users\\hp\\anaconda\\lib\\site-packages (from spacy<3.5.0,>=3.4.0->en-core-web-sm==3.4.1) (2.4.5)\n",
      "Requirement already satisfied: tqdm<5.0.0,>=4.38.0 in c:\\users\\hp\\anaconda\\lib\\site-packages (from spacy<3.5.0,>=3.4.0->en-core-web-sm==3.4.1) (4.64.1)\n",
      "Requirement already satisfied: wasabi<1.1.0,>=0.9.1 in c:\\users\\hp\\anaconda\\lib\\site-packages (from spacy<3.5.0,>=3.4.0->en-core-web-sm==3.4.1) (0.10.1)\n",
      "Requirement already satisfied: preshed<3.1.0,>=3.0.2 in c:\\users\\hp\\anaconda\\lib\\site-packages (from spacy<3.5.0,>=3.4.0->en-core-web-sm==3.4.1) (3.0.8)\n",
      "Requirement already satisfied: spacy-loggers<2.0.0,>=1.0.0 in c:\\users\\hp\\anaconda\\lib\\site-packages (from spacy<3.5.0,>=3.4.0->en-core-web-sm==3.4.1) (1.0.4)\n",
      "Requirement already satisfied: pathy>=0.3.5 in c:\\users\\hp\\anaconda\\lib\\site-packages (from spacy<3.5.0,>=3.4.0->en-core-web-sm==3.4.1) (0.10.1)\n",
      "Requirement already satisfied: packaging>=20.0 in c:\\users\\hp\\anaconda\\lib\\site-packages (from spacy<3.5.0,>=3.4.0->en-core-web-sm==3.4.1) (21.3)\n",
      "Requirement already satisfied: langcodes<4.0.0,>=3.2.0 in c:\\users\\hp\\anaconda\\lib\\site-packages (from spacy<3.5.0,>=3.4.0->en-core-web-sm==3.4.1) (3.3.0)\n",
      "Requirement already satisfied: setuptools in c:\\users\\hp\\anaconda\\lib\\site-packages (from spacy<3.5.0,>=3.4.0->en-core-web-sm==3.4.1) (63.4.1)\n",
      "Requirement already satisfied: numpy>=1.15.0 in c:\\users\\hp\\anaconda\\lib\\site-packages (from spacy<3.5.0,>=3.4.0->en-core-web-sm==3.4.1) (1.21.5)\n",
      "Requirement already satisfied: cymem<2.1.0,>=2.0.2 in c:\\users\\hp\\anaconda\\lib\\site-packages (from spacy<3.5.0,>=3.4.0->en-core-web-sm==3.4.1) (2.0.7)\n",
      "Requirement already satisfied: typer<0.8.0,>=0.3.0 in c:\\users\\hp\\anaconda\\lib\\site-packages (from spacy<3.5.0,>=3.4.0->en-core-web-sm==3.4.1) (0.7.0)\n",
      "Requirement already satisfied: thinc<8.2.0,>=8.1.0 in c:\\users\\hp\\anaconda\\lib\\site-packages (from spacy<3.5.0,>=3.4.0->en-core-web-sm==3.4.1) (8.1.7)\n",
      "Requirement already satisfied: requests<3.0.0,>=2.13.0 in c:\\users\\hp\\anaconda\\lib\\site-packages (from spacy<3.5.0,>=3.4.0->en-core-web-sm==3.4.1) (2.28.1)\n",
      "Requirement already satisfied: pyparsing!=3.0.5,>=2.0.2 in c:\\users\\hp\\anaconda\\lib\\site-packages (from packaging>=20.0->spacy<3.5.0,>=3.4.0->en-core-web-sm==3.4.1) (3.0.9)\n",
      "Requirement already satisfied: typing-extensions>=4.1.0 in c:\\users\\hp\\anaconda\\lib\\site-packages (from pydantic!=1.8,!=1.8.1,<1.11.0,>=1.7.4->spacy<3.5.0,>=3.4.0->en-core-web-sm==3.4.1) (4.3.0)\n",
      "Requirement already satisfied: urllib3<1.27,>=1.21.1 in c:\\users\\hp\\anaconda\\lib\\site-packages (from requests<3.0.0,>=2.13.0->spacy<3.5.0,>=3.4.0->en-core-web-sm==3.4.1) (1.26.11)\n",
      "Requirement already satisfied: certifi>=2017.4.17 in c:\\users\\hp\\anaconda\\lib\\site-packages (from requests<3.0.0,>=2.13.0->spacy<3.5.0,>=3.4.0->en-core-web-sm==3.4.1) (2022.9.14)\n",
      "Requirement already satisfied: idna<4,>=2.5 in c:\\users\\hp\\anaconda\\lib\\site-packages (from requests<3.0.0,>=2.13.0->spacy<3.5.0,>=3.4.0->en-core-web-sm==3.4.1) (3.3)\n",
      "Requirement already satisfied: charset-normalizer<3,>=2 in c:\\users\\hp\\anaconda\\lib\\site-packages (from requests<3.0.0,>=2.13.0->spacy<3.5.0,>=3.4.0->en-core-web-sm==3.4.1) (2.0.4)\n",
      "Requirement already satisfied: blis<0.8.0,>=0.7.8 in c:\\users\\hp\\anaconda\\lib\\site-packages (from thinc<8.2.0,>=8.1.0->spacy<3.5.0,>=3.4.0->en-core-web-sm==3.4.1) (0.7.9)\n",
      "Requirement already satisfied: confection<1.0.0,>=0.0.1 in c:\\users\\hp\\anaconda\\lib\\site-packages (from thinc<8.2.0,>=8.1.0->spacy<3.5.0,>=3.4.0->en-core-web-sm==3.4.1) (0.0.4)\n",
      "Requirement already satisfied: colorama in c:\\users\\hp\\anaconda\\lib\\site-packages (from tqdm<5.0.0,>=4.38.0->spacy<3.5.0,>=3.4.0->en-core-web-sm==3.4.1) (0.4.5)\n",
      "Requirement already satisfied: click<9.0.0,>=7.1.1 in c:\\users\\hp\\anaconda\\lib\\site-packages (from typer<0.8.0,>=0.3.0->spacy<3.5.0,>=3.4.0->en-core-web-sm==3.4.1) (8.0.4)\n",
      "Requirement already satisfied: MarkupSafe>=0.23 in c:\\users\\hp\\anaconda\\lib\\site-packages (from jinja2->spacy<3.5.0,>=3.4.0->en-core-web-sm==3.4.1) (2.0.1)\n",
      "Installing collected packages: en-core-web-sm\n",
      "Successfully installed en-core-web-sm-3.4.1\n",
      "[+] Download and installation successful\n",
      "You can now load the package via spacy.load('en_core_web_sm')\n"
     ]
    },
    {
     "name": "stderr",
     "output_type": "stream",
     "text": [
      "2023-08-18 15:14:40.267851: W tensorflow/stream_executor/platform/default/dso_loader.cc:64] Could not load dynamic library 'cudart64_110.dll'; dlerror: cudart64_110.dll not found\n",
      "2023-08-18 15:14:40.268570: I tensorflow/stream_executor/cuda/cudart_stub.cc:29] Ignore above cudart dlerror if you do not have a GPU set up on your machine.\n",
      "2023-08-18 15:14:57.351638: W tensorflow/stream_executor/platform/default/dso_loader.cc:64] Could not load dynamic library 'nvcuda.dll'; dlerror: nvcuda.dll not found\n",
      "2023-08-18 15:14:57.355845: W tensorflow/stream_executor/cuda/cuda_driver.cc:263] failed call to cuInit: UNKNOWN ERROR (303)\n",
      "2023-08-18 15:14:57.361894: I tensorflow/stream_executor/cuda/cuda_diagnostics.cc:169] retrieving CUDA diagnostic information for host: Luqmaan\n",
      "2023-08-18 15:14:57.362064: I tensorflow/stream_executor/cuda/cuda_diagnostics.cc:176] hostname: Luqmaan\n",
      "WARNING: Ignoring invalid distribution -pencv-python-headless (c:\\users\\hp\\anaconda\\lib\\site-packages)\n",
      "WARNING: Ignoring invalid distribution -pencv-python-headless (c:\\users\\hp\\anaconda\\lib\\site-packages)\n",
      "WARNING: Ignoring invalid distribution -pencv-python-headless (c:\\users\\hp\\anaconda\\lib\\site-packages)\n",
      "WARNING: Ignoring invalid distribution -pencv-python-headless (c:\\users\\hp\\anaconda\\lib\\site-packages)\n",
      "WARNING: Ignoring invalid distribution -pencv-python-headless (c:\\users\\hp\\anaconda\\lib\\site-packages)\n",
      "WARNING: Ignoring invalid distribution -pencv-python-headless (c:\\users\\hp\\anaconda\\lib\\site-packages)\n",
      "WARNING: Ignoring invalid distribution -pencv-python-headless (c:\\users\\hp\\anaconda\\lib\\site-packages)\n"
     ]
    }
   ],
   "source": [
    "!python -m spacy download en_core_web_sm"
   ]
  },
  {
   "cell_type": "code",
   "execution_count": 20,
   "id": "77db0aaa",
   "metadata": {},
   "outputs": [
    {
     "name": "stdout",
     "output_type": "stream",
     "text": [
      "['infosy', 'offer', 'good', 'learning', 'huge', 'make', 'interact', 'different', 'group', 'people', 'get', 'work', 'do', 'expect', 'great', 'hike', 'come', 'limelight']\n"
     ]
    }
   ],
   "source": [
    "import spacy\n",
    "\n",
    "# Remove Stop Words\n",
    "data_words_nostops = remove_stopwords(data_words)\n",
    "\n",
    "# Form Bigrams\n",
    "data_words_bigrams = make_bigrams(data_words_nostops)\n",
    "\n",
    "# Initialize spacy 'en' model, keeping only tagger component (for efficiency)\n",
    "nlp = spacy.load(\"en_core_web_sm\", disable=['parser', 'ner'])\n",
    "\n",
    "# Do lemmatization keeping only noun, adj, vb, adv\n",
    "data_lemmatized = lemmatization(data_words_bigrams, allowed_postags=['NOUN', 'ADJ', 'VERB', 'ADV'])\n",
    "\n",
    "print(data_lemmatized[:1][0][:30])"
   ]
  },
  {
   "cell_type": "markdown",
   "id": "b70bb11f",
   "metadata": {},
   "source": [
    "# Data transformation: Corpus and Dictionary"
   ]
  },
  {
   "cell_type": "code",
   "execution_count": 21,
   "id": "1c23eff8",
   "metadata": {},
   "outputs": [
    {
     "name": "stdout",
     "output_type": "stream",
     "text": [
      "[(0, 1), (1, 1), (2, 1), (3, 1), (4, 1), (5, 1), (6, 1), (7, 1), (8, 1), (9, 1), (10, 1), (11, 1), (12, 1), (13, 1), (14, 1), (15, 1), (16, 1), (17, 1)]\n"
     ]
    }
   ],
   "source": [
    "import gensim.corpora as corpora\n",
    "\n",
    "# Create Dictionary\n",
    "id2word = corpora.Dictionary(data_lemmatized)\n",
    "\n",
    "# Create Corpus\n",
    "texts = data_lemmatized\n",
    "\n",
    "# Term Document Frequency\n",
    "corpus = [id2word.doc2bow(text) for text in texts]\n",
    "\n",
    "# View\n",
    "print(corpus[:1][0][:30])"
   ]
  },
  {
   "cell_type": "markdown",
   "id": "e24375b9",
   "metadata": {},
   "source": [
    "# Base Model"
   ]
  },
  {
   "cell_type": "code",
   "execution_count": 22,
   "id": "9e2baa78",
   "metadata": {},
   "outputs": [],
   "source": [
    "# Build LDA model\n",
    "lda_model = gensim.models.LdaMulticore(corpus=corpus,\n",
    "                                       id2word=id2word,\n",
    "                                       num_topics=10, \n",
    "                                       random_state=100,\n",
    "                                       chunksize=100,\n",
    "                                       passes=10,\n",
    "                                       per_word_topics=True)\n"
   ]
  },
  {
   "cell_type": "code",
   "execution_count": 23,
   "id": "7e1fe16a",
   "metadata": {},
   "outputs": [
    {
     "name": "stdout",
     "output_type": "stream",
     "text": [
      "[(0,\n",
      "  '0.116*\"growth\" + 0.108*\"opportunity\" + 0.060*\"onsite\" + 0.047*\"good\" + '\n",
      "  '0.042*\"career\" + 0.032*\"less\" + 0.029*\"slow\" + 0.027*\"salary\" + '\n",
      "  '0.023*\"hike\" + 0.021*\"term\"'),\n",
      " (1,\n",
      "  '0.062*\"work\" + 0.044*\"time\" + 0.031*\"hour\" + 0.030*\"shift\" + 0.022*\"long\" + '\n",
      "  '0.021*\"day\" + 0.018*\"activity\" + 0.017*\"office\" + 0.013*\"use\" + '\n",
      "  '0.012*\"location\"'),\n",
      " (2,\n",
      "  '0.209*\"work\" + 0.114*\"life\" + 0.105*\"balance\" + 0.095*\"good\" + 0.037*\"hike\" '\n",
      "  '+ 0.034*\"salary\" + 0.033*\"less\" + 0.026*\"pressure\" + 0.017*\"culture\" + '\n",
      "  '0.016*\"home\"'),\n",
      " (3,\n",
      "  '0.080*\"good\" + 0.073*\"work\" + 0.057*\"team\" + 0.051*\"project\" + '\n",
      "  '0.039*\"manager\" + 0.034*\"management\" + 0.028*\"employee\" + 0.027*\"friendly\" '\n",
      "  '+ 0.025*\"flexible\" + 0.023*\"hike\"'),\n",
      " (4,\n",
      "  '0.160*\"salary\" + 0.101*\"hike\" + 0.096*\"less\" + 0.072*\"good\" + 0.067*\"job\" + '\n",
      "  '0.066*\"low\" + 0.034*\"compare\" + 0.029*\"security\" + 0.029*\"market\" + '\n",
      "  '0.027*\"increment\"'),\n",
      " (5,\n",
      "  '0.063*\"learn\" + 0.048*\"good\" + 0.048*\"project\" + 0.046*\"technology\" + '\n",
      "  '0.039*\"new\" + 0.035*\"opportunity\" + 0.032*\"lot\" + 0.024*\"get\" + '\n",
      "  '0.023*\"skill\" + 0.022*\"timing\"'),\n",
      " (6,\n",
      "  '0.196*\"good\" + 0.179*\"work\" + 0.071*\"environment\" + 0.059*\"place\" + '\n",
      "  '0.049*\"culture\" + 0.048*\"con\" + 0.040*\"great\" + 0.039*\"nice\" + '\n",
      "  '0.018*\"experience\" + 0.017*\"friendly\"'),\n",
      " (7,\n",
      "  '0.061*\"get\" + 0.037*\"project\" + 0.030*\"manager\" + 0.026*\"year\" + '\n",
      "  '0.023*\"thing\" + 0.021*\"even\" + 0.020*\"join\" + 0.019*\"people\" + 0.014*\"give\" '\n",
      "  '+ 0.014*\"want\"'),\n",
      " (8,\n",
      "  '0.091*\"employee\" + 0.025*\"well\" + 0.023*\"pay\" + 0.018*\"pro\" + '\n",
      "  '0.016*\"policy\" + 0.014*\"need\" + 0.011*\"people\" + 0.011*\"care\" + '\n",
      "  '0.010*\"level\" + 0.010*\"hire\"'),\n",
      " (9,\n",
      "  '0.128*\"management\" + 0.111*\"bad\" + 0.076*\"good\" + 0.050*\"poor\" + '\n",
      "  '0.038*\"appraisal\" + 0.032*\"facility\" + 0.028*\"training\" + 0.027*\"policy\" + '\n",
      "  '0.024*\"hr\" + 0.023*\"excellent\"')]\n"
     ]
    }
   ],
   "source": [
    "from pprint import pprint\n",
    "\n",
    "# Print the Keyword in the 10 topics\n",
    "pprint(lda_model.print_topics())\n",
    "doc_lda = lda_model[corpus]"
   ]
  },
  {
   "cell_type": "markdown",
   "id": "98bed6a8",
   "metadata": {},
   "source": [
    "# Compute Model Perplexity and Coherence Score"
   ]
  },
  {
   "cell_type": "code",
   "execution_count": 24,
   "id": "d1518794",
   "metadata": {},
   "outputs": [
    {
     "name": "stdout",
     "output_type": "stream",
     "text": [
      "Coherence Score:  0.5424226675106311\n"
     ]
    }
   ],
   "source": [
    "from gensim.models import CoherenceModel\n",
    "\n",
    "# Compute Coherence Score\n",
    "coherence_model_lda = CoherenceModel(model=lda_model, texts=data_lemmatized, dictionary=id2word, coherence='c_v')\n",
    "coherence_lda = coherence_model_lda.get_coherence()\n",
    "print('Coherence Score: ', coherence_lda)"
   ]
  },
  {
   "cell_type": "markdown",
   "id": "47009ea4",
   "metadata": {},
   "source": [
    "# Hyperparameter Tuning"
   ]
  },
  {
   "cell_type": "code",
   "execution_count": 25,
   "id": "1c60e593",
   "metadata": {},
   "outputs": [],
   "source": [
    "def compute_coherence_values(corpus, dictionary, k, a, b):\n",
    "    \n",
    "    lda_model = gensim.models.LdaMulticore(corpus=corpus,\n",
    "                                           id2word=dictionary,\n",
    "                                           num_topics=k, \n",
    "                                           random_state=100,\n",
    "                                           chunksize=100,\n",
    "                                           passes=10,\n",
    "                                           alpha=a,\n",
    "                                           eta=b)\n",
    "    \n",
    "    coherence_model_lda = CoherenceModel(model=lda_model, texts=data_lemmatized, dictionary=id2word, coherence='c_v')\n",
    "    \n",
    "    return coherence_model_lda.get_coherence()"
   ]
  },
  {
   "cell_type": "code",
   "execution_count": null,
   "id": "c5d08b99",
   "metadata": {},
   "outputs": [
    {
     "name": "stderr",
     "output_type": "stream",
     "text": [
      "\r",
      "  0%|                                                                                          | 0/540 [00:00<?, ?it/s]"
     ]
    }
   ],
   "source": [
    "import numpy as np\n",
    "import tqdm\n",
    "\n",
    "grid = {}\n",
    "grid['Validation_Set'] = {}\n",
    "\n",
    "# Topics range\n",
    "min_topics = 2\n",
    "max_topics = 11\n",
    "step_size = 1\n",
    "topics_range = range(min_topics, max_topics, step_size)\n",
    "\n",
    "# Alpha parameter\n",
    "alpha = list(np.arange(0.01, 1, 0.3))\n",
    "alpha.append('symmetric')\n",
    "alpha.append('asymmetric')\n",
    "\n",
    "# Beta parameter\n",
    "beta = list(np.arange(0.01, 1, 0.3))\n",
    "beta.append('symmetric')\n",
    "\n",
    "# Validation sets\n",
    "num_of_docs = len(corpus)\n",
    "corpus_sets = [gensim.utils.ClippedCorpus(corpus, int(num_of_docs*0.75)), \n",
    "               corpus]\n",
    "\n",
    "corpus_title = ['75% Corpus', '100% Corpus']\n",
    "\n",
    "model_results = {'Validation_Set': [],\n",
    "                 'Topics': [],\n",
    "                 'Alpha': [],\n",
    "                 'Beta': [],\n",
    "                 'Coherence': []\n",
    "                }\n",
    "\n",
    "# Can take a long time to run\n",
    "if 1 == 1:\n",
    "    pbar = tqdm.tqdm(total=(len(beta)*len(alpha)*len(topics_range)*len(corpus_title)))\n",
    "    \n",
    "    # iterate through validation corpuses\n",
    "    for i in range(len(corpus_sets)):\n",
    "        # iterate through number of topics\n",
    "        for k in topics_range:\n",
    "            # iterate through alpha values\n",
    "            for a in alpha:\n",
    "                # iterare through beta values\n",
    "                for b in beta:\n",
    "                    # get the coherence score for the given parameters\n",
    "                    cv = compute_coherence_values(corpus=corpus_sets[i], dictionary=id2word, \n",
    "                                                  k=k, a=a, b=b)\n",
    "                    # Save the model results\n",
    "                    model_results['Validation_Set'].append(corpus_title[i])\n",
    "                    model_results['Topics'].append(k)\n",
    "                    model_results['Alpha'].append(a)\n",
    "                    model_results['Beta'].append(b)\n",
    "                    model_results['Coherence'].append(cv)\n",
    "                    \n",
    "                    pbar.update(1)\n",
    "    pd.DataFrame(model_results).to_csv('./results/lda_tuning_results.csv', index=False)\n",
    "    pbar.close()"
   ]
  },
  {
   "cell_type": "markdown",
   "id": "134bc15c",
   "metadata": {},
   "source": [
    "# Final Model"
   ]
  },
  {
   "cell_type": "code",
   "execution_count": null,
   "id": "691880f7",
   "metadata": {},
   "outputs": [],
   "source": []
  }
 ],
 "metadata": {
  "kernelspec": {
   "display_name": "Python 3 (ipykernel)",
   "language": "python",
   "name": "python3"
  },
  "language_info": {
   "codemirror_mode": {
    "name": "ipython",
    "version": 3
   },
   "file_extension": ".py",
   "mimetype": "text/x-python",
   "name": "python",
   "nbconvert_exporter": "python",
   "pygments_lexer": "ipython3",
   "version": "3.9.13"
  }
 },
 "nbformat": 4,
 "nbformat_minor": 5
}
